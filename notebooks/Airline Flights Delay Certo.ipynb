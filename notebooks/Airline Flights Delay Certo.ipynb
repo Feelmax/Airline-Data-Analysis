{
 "cells": [
  {
   "cell_type": "code",
   "execution_count": 0,
   "metadata": {
    "application/vnd.databricks.v1+cell": {
     "cellMetadata": {
      "byteLimit": 2048000,
      "rowLimit": 10000
     },
     "inputWidgets": {},
     "nuid": "9458f2a0-722b-46ea-8404-0154e76c555d",
     "showTitle": false,
     "tableResultSettingsMap": {},
     "title": ""
    }
   },
   "outputs": [],
   "source": [
    "import pandas as pd"
   ]
  },
  {
   "cell_type": "code",
   "execution_count": 0,
   "metadata": {
    "application/vnd.databricks.v1+cell": {
     "cellMetadata": {
      "byteLimit": 2048000,
      "rowLimit": 10000
     },
     "inputWidgets": {},
     "nuid": "e8fe9c0b-cc2e-4409-b541-7c2c5a017856",
     "showTitle": false,
     "tableResultSettingsMap": {},
     "title": ""
    }
   },
   "outputs": [],
   "source": [
    "# Lendo os dados\n",
    "caminho_csv = \"dbfs:/FileStore/tables/flights.csv\"\n",
    "\n",
    "spark_df = spark.read\\\n",
    "    .format(\"csv\")\\\n",
    "    .option(\"header\", True)\\\n",
    "    .option(\"sep\", \",\")\\\n",
    "    .option(\"inferSchema\", True)\\\n",
    "    .load(caminho_csv)"
   ]
  },
  {
   "cell_type": "code",
   "execution_count": 0,
   "metadata": {
    "application/vnd.databricks.v1+cell": {
     "cellMetadata": {
      "byteLimit": 2048000,
      "rowLimit": 10000
     },
     "inputWidgets": {},
     "nuid": "58b367ca-3f9e-42ba-b1e2-59e34de709d7",
     "showTitle": false,
     "tableResultSettingsMap": {},
     "title": ""
    }
   },
   "outputs": [],
   "source": [
    "# Convertendo Spark para Pandas\n",
    "df = spark_df.toPandas()"
   ]
  },
  {
   "cell_type": "code",
   "execution_count": 0,
   "metadata": {
    "application/vnd.databricks.v1+cell": {
     "cellMetadata": {
      "byteLimit": 2048000,
      "rowLimit": 10000
     },
     "inputWidgets": {},
     "nuid": "f9063bf5-bc01-4b1d-94b8-3ee47c5f3a2b",
     "showTitle": false,
     "tableResultSettingsMap": {},
     "title": ""
    }
   },
   "outputs": [],
   "source": [
    "# 1. Volume de voos por meses e dia da semana\n",
    "voos_por_mes = df.groupby('MONTH').size().reset_index(name='total_voos')\n",
    "voos_por_dia = df.groupby('DAY_OF_WEEK').size().reset_index(name='to  tal_voos')"
   ]
  },
  {
   "cell_type": "code",
   "execution_count": 0,
   "metadata": {
    "application/vnd.databricks.v1+cell": {
     "cellMetadata": {
      "byteLimit": 2048000,
      "rowLimit": 10000
     },
     "inputWidgets": {},
     "nuid": "92549575-155e-46a6-b502-51e7ba6508c2",
     "showTitle": false,
     "tableResultSettingsMap": {},
     "title": ""
    }
   },
   "outputs": [
    {
     "output_type": "display_data",
     "data": {
      "text/html": [
       "<style scoped>\n",
       "  .table-result-container {\n",
       "    max-height: 300px;\n",
       "    overflow: auto;\n",
       "  }\n",
       "  table, th, td {\n",
       "    border: 1px solid black;\n",
       "    border-collapse: collapse;\n",
       "  }\n",
       "  th, td {\n",
       "    padding: 5px;\n",
       "  }\n",
       "  th {\n",
       "    text-align: left;\n",
       "  }\n",
       "</style><div class='table-result-container'><table class='table-result'><thead style='background-color: white'><tr><th>MONTH</th><th>total_voos</th></tr></thead><tbody><tr><td>1</td><td>469968</td></tr><tr><td>2</td><td>429191</td></tr><tr><td>3</td><td>504312</td></tr><tr><td>4</td><td>485151</td></tr><tr><td>5</td><td>496993</td></tr><tr><td>6</td><td>503897</td></tr><tr><td>7</td><td>520718</td></tr><tr><td>8</td><td>510536</td></tr><tr><td>9</td><td>464946</td></tr><tr><td>10</td><td>486165</td></tr><tr><td>11</td><td>467972</td></tr><tr><td>12</td><td>479230</td></tr></tbody></table></div>"
      ]
     },
     "metadata": {
      "application/vnd.databricks.v1+output": {
       "addedWidgets": {},
       "aggData": [],
       "aggError": "",
       "aggOverflow": false,
       "aggSchema": [],
       "aggSeriesLimitReached": false,
       "aggType": "",
       "arguments": {},
       "columnCustomDisplayInfos": {},
       "data": [
        [
         1,
         469968
        ],
        [
         2,
         429191
        ],
        [
         3,
         504312
        ],
        [
         4,
         485151
        ],
        [
         5,
         496993
        ],
        [
         6,
         503897
        ],
        [
         7,
         520718
        ],
        [
         8,
         510536
        ],
        [
         9,
         464946
        ],
        [
         10,
         486165
        ],
        [
         11,
         467972
        ],
        [
         12,
         479230
        ]
       ],
       "datasetInfos": [],
       "dbfsResultPath": null,
       "isJsonSchema": true,
       "metadata": {},
       "overflow": false,
       "plotOptions": {
        "customPlotOptions": {},
        "displayType": "table",
        "pivotAggregation": null,
        "pivotColumns": null,
        "xColumns": null,
        "yColumns": null
       },
       "removedWidgets": [],
       "schema": [
        {
         "metadata": "{}",
         "name": "MONTH",
         "type": "\"long\""
        },
        {
         "metadata": "{}",
         "name": "total_voos",
         "type": "\"long\""
        }
       ],
       "type": "table"
      }
     },
     "output_type": "display_data"
    }
   ],
   "source": [
    "display(voos_por_mes)"
   ]
  },
  {
   "cell_type": "code",
   "execution_count": 0,
   "metadata": {
    "application/vnd.databricks.v1+cell": {
     "cellMetadata": {
      "byteLimit": 2048000,
      "rowLimit": 10000
     },
     "inputWidgets": {},
     "nuid": "627ecc5a-0716-475e-9427-d95b9105d99c",
     "showTitle": false,
     "tableResultSettingsMap": {},
     "title": ""
    }
   },
   "outputs": [
    {
     "output_type": "display_data",
     "data": {
      "text/html": [
       "<style scoped>\n",
       "  .table-result-container {\n",
       "    max-height: 300px;\n",
       "    overflow: auto;\n",
       "  }\n",
       "  table, th, td {\n",
       "    border: 1px solid black;\n",
       "    border-collapse: collapse;\n",
       "  }\n",
       "  th, td {\n",
       "    padding: 5px;\n",
       "  }\n",
       "  th {\n",
       "    text-align: left;\n",
       "  }\n",
       "</style><div class='table-result-container'><table class='table-result'><thead style='background-color: white'><tr><th>DAY_OF_WEEK</th><th>to  tal_voos</th></tr></thead><tbody><tr><td>1</td><td>865543</td></tr><tr><td>2</td><td>844600</td></tr><tr><td>3</td><td>855897</td></tr><tr><td>4</td><td>872521</td></tr><tr><td>5</td><td>862209</td></tr><tr><td>6</td><td>700545</td></tr><tr><td>7</td><td>817764</td></tr></tbody></table></div>"
      ]
     },
     "metadata": {
      "application/vnd.databricks.v1+output": {
       "addedWidgets": {},
       "aggData": [],
       "aggError": "",
       "aggOverflow": false,
       "aggSchema": [],
       "aggSeriesLimitReached": false,
       "aggType": "",
       "arguments": {},
       "columnCustomDisplayInfos": {},
       "data": [
        [
         1,
         865543
        ],
        [
         2,
         844600
        ],
        [
         3,
         855897
        ],
        [
         4,
         872521
        ],
        [
         5,
         862209
        ],
        [
         6,
         700545
        ],
        [
         7,
         817764
        ]
       ],
       "datasetInfos": [],
       "dbfsResultPath": null,
       "isJsonSchema": true,
       "metadata": {},
       "overflow": false,
       "plotOptions": {
        "customPlotOptions": {},
        "displayType": "table",
        "pivotAggregation": null,
        "pivotColumns": null,
        "xColumns": null,
        "yColumns": null
       },
       "removedWidgets": [],
       "schema": [
        {
         "metadata": "{}",
         "name": "DAY_OF_WEEK",
         "type": "\"long\""
        },
        {
         "metadata": "{}",
         "name": "to  tal_voos",
         "type": "\"long\""
        }
       ],
       "type": "table"
      }
     },
     "output_type": "display_data"
    }
   ],
   "source": [
    "display(voos_por_dia)"
   ]
  },
  {
   "cell_type": "code",
   "execution_count": 0,
   "metadata": {
    "application/vnd.databricks.v1+cell": {
     "cellMetadata": {
      "byteLimit": 2048000,
      "rowLimit": 10000
     },
     "inputWidgets": {},
     "nuid": "b7500cd6-6918-4f3a-9c4c-2008c13f19e8",
     "showTitle": false,
     "tableResultSettingsMap": {},
     "title": ""
    }
   },
   "outputs": [
    {
     "output_type": "stream",
     "name": "stdout",
     "output_type": "stream",
     "text": [
      "Total de voos atrasados: 2125618\nPorcentagem de voos atrasados: 36.53%\nMédia de tempo de atraso: 32.67 minutos\n"
     ]
    }
   ],
   "source": [
    "# 2. Análise de atrasos\n",
    "total_voos = len(df)\n",
    "voos_atrasados = df[df['DEPARTURE_DELAY'] > 0]\n",
    "perc_atrasos = (len(voos_atrasados) / total_voos) * 100\n",
    "tempo_medio_atraso = voos_atrasados['DEPARTURE_DELAY'].mean()\n",
    "\n",
    "print(f\"Total de voos atrasados: {total_voos_atrasados}\")\n",
    "print(f\"Porcentagem de voos atrasados: {porcentagem_voos_atrasados:.2f}%\")\n",
    "print(f\"Média de tempo de atraso: {media_tempo_atraso:.2f} minutos\")"
   ]
  },
  {
   "cell_type": "code",
   "execution_count": 0,
   "metadata": {
    "application/vnd.databricks.v1+cell": {
     "cellMetadata": {
      "byteLimit": 2048000,
      "rowLimit": 10000
     },
     "inputWidgets": {},
     "nuid": "012b8bd2-6851-4ca7-b610-68a74de423fd",
     "showTitle": false,
     "tableResultSettingsMap": {},
     "title": ""
    }
   },
   "outputs": [],
   "source": [
    "# 3. Atrasos por mes (geral e BOS)\n",
    "atrasos_mes = df.groupby('MONTH').apply(\n",
    "    lambda x: (x['DEPARTURE_DELAY'] > 0).mean() * 100\n",
    ").reset_index(name='perc_atrasos')\n",
    "\n",
    "atrasos_bos = df[df['ORIGIN_AIRPORT'] == 'BOS'].groupby('MONTH').apply(\n",
    "    lambda x: (x['DEPARTURE_DELAY'] > 0).mean() * 100\n",
    ").reset_index(name='perc_atrasos_bos')"
   ]
  },
  {
   "cell_type": "code",
   "execution_count": 0,
   "metadata": {
    "application/vnd.databricks.v1+cell": {
     "cellMetadata": {
      "byteLimit": 2048000,
      "rowLimit": 10000
     },
     "inputWidgets": {},
     "nuid": "e3624f0a-9905-4aff-ba78-25cb3477a933",
     "showTitle": false,
     "tableResultSettingsMap": {},
     "title": ""
    }
   },
   "outputs": [
    {
     "output_type": "display_data",
     "data": {
      "text/html": [
       "<style scoped>\n",
       "  .table-result-container {\n",
       "    max-height: 300px;\n",
       "    overflow: auto;\n",
       "  }\n",
       "  table, th, td {\n",
       "    border: 1px solid black;\n",
       "    border-collapse: collapse;\n",
       "  }\n",
       "  th, td {\n",
       "    padding: 5px;\n",
       "  }\n",
       "  th {\n",
       "    text-align: left;\n",
       "  }\n",
       "</style><div class='table-result-container'><table class='table-result'><thead style='background-color: white'><tr><th>MONTH</th><th>perc_atrasos</th></tr></thead><tbody><tr><td>1</td><td>37.58277159295952</td></tr><tr><td>2</td><td>40.41137861697939</td></tr><tr><td>3</td><td>38.43196275321626</td></tr><tr><td>4</td><td>34.48699477070026</td></tr><tr><td>5</td><td>35.98762960444111</td></tr><tr><td>6</td><td>42.74306058579432</td></tr><tr><td>7</td><td>40.255762235989536</td></tr><tr><td>8</td><td>37.380321857812184</td></tr><tr><td>9</td><td>28.5175052586752</td></tr><tr><td>10</td><td>29.846245616200264</td></tr><tr><td>11</td><td>32.62802047985777</td></tr><tr><td>12</td><td>39.509004027293784</td></tr></tbody></table></div>"
      ]
     },
     "metadata": {
      "application/vnd.databricks.v1+output": {
       "addedWidgets": {},
       "aggData": [],
       "aggError": "",
       "aggOverflow": false,
       "aggSchema": [],
       "aggSeriesLimitReached": false,
       "aggType": "",
       "arguments": {},
       "columnCustomDisplayInfos": {},
       "data": [
        [
         1,
         37.58277159295952
        ],
        [
         2,
         40.41137861697939
        ],
        [
         3,
         38.43196275321626
        ],
        [
         4,
         34.48699477070026
        ],
        [
         5,
         35.98762960444111
        ],
        [
         6,
         42.74306058579432
        ],
        [
         7,
         40.255762235989536
        ],
        [
         8,
         37.380321857812184
        ],
        [
         9,
         28.5175052586752
        ],
        [
         10,
         29.846245616200264
        ],
        [
         11,
         32.62802047985777
        ],
        [
         12,
         39.509004027293784
        ]
       ],
       "datasetInfos": [],
       "dbfsResultPath": null,
       "isJsonSchema": true,
       "metadata": {},
       "overflow": false,
       "plotOptions": {
        "customPlotOptions": {},
        "displayType": "table",
        "pivotAggregation": null,
        "pivotColumns": null,
        "xColumns": null,
        "yColumns": null
       },
       "removedWidgets": [],
       "schema": [
        {
         "metadata": "{}",
         "name": "MONTH",
         "type": "\"long\""
        },
        {
         "metadata": "{}",
         "name": "perc_atrasos",
         "type": "\"double\""
        }
       ],
       "type": "table"
      }
     },
     "output_type": "display_data"
    }
   ],
   "source": [
    "display(atrasos_mes)"
   ]
  },
  {
   "cell_type": "code",
   "execution_count": 0,
   "metadata": {
    "application/vnd.databricks.v1+cell": {
     "cellMetadata": {
      "byteLimit": 2048000,
      "rowLimit": 10000
     },
     "inputWidgets": {},
     "nuid": "3f7c75fe-c32f-4d2f-a130-097be02f2d4c",
     "showTitle": false,
     "tableResultSettingsMap": {},
     "title": ""
    }
   },
   "outputs": [
    {
     "output_type": "display_data",
     "data": {
      "text/html": [
       "<style scoped>\n",
       "  .table-result-container {\n",
       "    max-height: 300px;\n",
       "    overflow: auto;\n",
       "  }\n",
       "  table, th, td {\n",
       "    border: 1px solid black;\n",
       "    border-collapse: collapse;\n",
       "  }\n",
       "  th, td {\n",
       "    padding: 5px;\n",
       "  }\n",
       "  th {\n",
       "    text-align: left;\n",
       "  }\n",
       "</style><div class='table-result-container'><table class='table-result'><thead style='background-color: white'><tr><th>MONTH</th><th>perc_atrasos_bos</th></tr></thead><tbody><tr><td>1</td><td>34.129229376485235</td></tr><tr><td>2</td><td>48.63961813842482</td></tr><tr><td>3</td><td>37.42854277404473</td></tr><tr><td>4</td><td>33.29</td></tr><tr><td>5</td><td>31.52035933990821</td></tr><tr><td>6</td><td>37.38619119878604</td></tr><tr><td>7</td><td>39.63273968810556</td></tr><tr><td>8</td><td>39.88999720331873</td></tr><tr><td>9</td><td>29.868393995476044</td></tr><tr><td>11</td><td>28.835587489433646</td></tr><tr><td>12</td><td>39.05701754385965</td></tr></tbody></table></div>"
      ]
     },
     "metadata": {
      "application/vnd.databricks.v1+output": {
       "addedWidgets": {},
       "aggData": [],
       "aggError": "",
       "aggOverflow": false,
       "aggSchema": [],
       "aggSeriesLimitReached": false,
       "aggType": "",
       "arguments": {},
       "columnCustomDisplayInfos": {},
       "data": [
        [
         1,
         34.129229376485235
        ],
        [
         2,
         48.63961813842482
        ],
        [
         3,
         37.42854277404473
        ],
        [
         4,
         33.29
        ],
        [
         5,
         31.52035933990821
        ],
        [
         6,
         37.38619119878604
        ],
        [
         7,
         39.63273968810556
        ],
        [
         8,
         39.88999720331873
        ],
        [
         9,
         29.868393995476044
        ],
        [
         11,
         28.835587489433646
        ],
        [
         12,
         39.05701754385965
        ]
       ],
       "datasetInfos": [],
       "dbfsResultPath": null,
       "isJsonSchema": true,
       "metadata": {},
       "overflow": false,
       "plotOptions": {
        "customPlotOptions": {},
        "displayType": "table",
        "pivotAggregation": null,
        "pivotColumns": null,
        "xColumns": null,
        "yColumns": null
       },
       "removedWidgets": [],
       "schema": [
        {
         "metadata": "{}",
         "name": "MONTH",
         "type": "\"long\""
        },
        {
         "metadata": "{}",
         "name": "perc_atrasos_bos",
         "type": "\"double\""
        }
       ],
       "type": "table"
      }
     },
     "output_type": "display_data"
    }
   ],
   "source": [
    "display(atrasos_bos)"
   ]
  },
  {
   "cell_type": "code",
   "execution_count": 0,
   "metadata": {
    "application/vnd.databricks.v1+cell": {
     "cellMetadata": {
      "byteLimit": 2048000,
      "rowLimit": 10000
     },
     "inputWidgets": {},
     "nuid": "119e568e-ce1a-433a-a4b2-4f4f3e48d687",
     "showTitle": false,
     "tableResultSettingsMap": {},
     "title": ""
    }
   },
   "outputs": [],
   "source": [
    "# 4. Analise de cancelamentos\n",
    "total_cancelados = df['CANCELLED'].sum()\n",
    "perc_cancelados = (total_cancelados / total_voos) * 100\n",
    "\n",
    "cancelamentos_motivo = df[df['CANCELLED'] == 1]['CANCELLATION_REASON'].value_counts()"
   ]
  },
  {
   "cell_type": "code",
   "execution_count": 0,
   "metadata": {
    "application/vnd.databricks.v1+cell": {
     "cellMetadata": {
      "byteLimit": 2048000,
      "rowLimit": 10000
     },
     "inputWidgets": {},
     "nuid": "8aa365fb-0d52-4a70-86a4-1887beef87c7",
     "showTitle": false,
     "tableResultSettingsMap": {},
     "title": ""
    }
   },
   "outputs": [
    {
     "output_type": "stream",
     "name": "stdout",
     "output_type": "stream",
     "text": [
      "B    48851\nA    25262\nC    15749\nD       22\nName: CANCELLATION_REASON, dtype: int64"
     ]
    }
   ],
   "source": [
    "display(cancelamentos_motivo)"
   ]
  },
  {
   "cell_type": "code",
   "execution_count": 0,
   "metadata": {
    "application/vnd.databricks.v1+cell": {
     "cellMetadata": {
      "byteLimit": 2048000,
      "rowLimit": 10000
     },
     "inputWidgets": {},
     "nuid": "f34aaa7e-f972-46fc-a1bd-539958dd5bcf",
     "showTitle": false,
     "tableResultSettingsMap": {},
     "title": ""
    }
   },
   "outputs": [],
   "source": [
    "# 5. Confiabilidade das companhias aéreas\n",
    "confiabilidade_airlines = df.groupby('AIRLINE').agg({\n",
    "    'DEPARTURE_DELAY': lambda x: (x <= 0).mean() * 100\n",
    "}).reset_index()\n",
    "confiabilidade_airlines.columns = ['AIRLINE', 'PONTUALIDADE']\n",
    "confiabilidade_airlines = confiabilidade_airlines.sort_values('PONTUALIDADE', ascending=False)"
   ]
  },
  {
   "cell_type": "code",
   "execution_count": 0,
   "metadata": {
    "application/vnd.databricks.v1+cell": {
     "cellMetadata": {
      "byteLimit": 2048000,
      "rowLimit": 10000
     },
     "inputWidgets": {},
     "nuid": "a0f3cf36-554c-4a27-8027-a8e7fc63d67e",
     "showTitle": false,
     "tableResultSettingsMap": {},
     "title": ""
    }
   },
   "outputs": [
    {
     "output_type": "display_data",
     "data": {
      "text/html": [
       "<style scoped>\n",
       "  .table-result-container {\n",
       "    max-height: 300px;\n",
       "    overflow: auto;\n",
       "  }\n",
       "  table, th, td {\n",
       "    border: 1px solid black;\n",
       "    border-collapse: collapse;\n",
       "  }\n",
       "  th, td {\n",
       "    padding: 5px;\n",
       "  }\n",
       "  th {\n",
       "    text-align: left;\n",
       "  }\n",
       "</style><div class='table-result-container'><table class='table-result'><thead style='background-color: white'><tr><th>AIRLINE</th><th>PONTUALIDADE</th></tr></thead><tbody><tr><td>AS</td><td>74.3932622695208</td></tr><tr><td>HA</td><td>73.38603943780156</td></tr><tr><td>OO</td><td>69.26352036957405</td></tr><tr><td>EV</td><td>67.7294716395939</td></tr><tr><td>DL</td><td>67.32809593997358</td></tr><tr><td>US</td><td>66.55763279068012</td></tr><tr><td>AA</td><td>64.69756909243178</td></tr><tr><td>MQ</td><td>63.31830894132341</td></tr><tr><td>VX</td><td>61.39605511849183</td></tr><tr><td>F9</td><td>60.98573252895327</td></tr><tr><td>B6</td><td>60.20715377010875</td></tr><tr><td>NK</td><td>53.98325083703218</td></tr><tr><td>WN</td><td>53.835187085679415</td></tr><tr><td>UA</td><td>49.05424035771141</td></tr></tbody></table></div>"
      ]
     },
     "metadata": {
      "application/vnd.databricks.v1+output": {
       "addedWidgets": {},
       "aggData": [],
       "aggError": "",
       "aggOverflow": false,
       "aggSchema": [],
       "aggSeriesLimitReached": false,
       "aggType": "",
       "arguments": {},
       "columnCustomDisplayInfos": {},
       "data": [
        [
         "AS",
         74.3932622695208
        ],
        [
         "HA",
         73.38603943780156
        ],
        [
         "OO",
         69.26352036957405
        ],
        [
         "EV",
         67.7294716395939
        ],
        [
         "DL",
         67.32809593997358
        ],
        [
         "US",
         66.55763279068012
        ],
        [
         "AA",
         64.69756909243178
        ],
        [
         "MQ",
         63.31830894132341
        ],
        [
         "VX",
         61.39605511849183
        ],
        [
         "F9",
         60.98573252895327
        ],
        [
         "B6",
         60.20715377010875
        ],
        [
         "NK",
         53.98325083703218
        ],
        [
         "WN",
         53.835187085679415
        ],
        [
         "UA",
         49.05424035771141
        ]
       ],
       "datasetInfos": [],
       "dbfsResultPath": null,
       "isJsonSchema": true,
       "metadata": {},
       "overflow": false,
       "plotOptions": {
        "customPlotOptions": {},
        "displayType": "table",
        "pivotAggregation": null,
        "pivotColumns": null,
        "xColumns": null,
        "yColumns": null
       },
       "removedWidgets": [],
       "schema": [
        {
         "metadata": "{}",
         "name": "AIRLINE",
         "type": "\"string\""
        },
        {
         "metadata": "{}",
         "name": "PONTUALIDADE",
         "type": "\"double\""
        }
       ],
       "type": "table"
      }
     },
     "output_type": "display_data"
    }
   ],
   "source": [
    "display(confiabilidade_airlines)"
   ]
  },
  {
   "cell_type": "code",
   "execution_count": 0,
   "metadata": {
    "application/vnd.databricks.v1+cell": {
     "cellMetadata": {
      "byteLimit": 2048000,
      "rowLimit": 10000
     },
     "inputWidgets": {},
     "nuid": "f8317e59-1146-4242-8565-5eac22b077a1",
     "showTitle": false,
     "tableResultSettingsMap": {},
     "title": ""
    }
   },
   "outputs": [],
   "source": [
    "# Salvando os dados processados para o Power BI\n",
    "voos_por_mes.to_csv('voos_por_mes.csv', index=False)\n",
    "voos_por_dia.to_csv('voos_por_dia.csv', index=False)\n",
    "atrasos_mes.to_csv('atrasos_mensais.csv', index=False)\n",
    "atrasos_bos.to_csv('atrasos_bos.csv', index=False)\n",
    "confiabilidade_airlines.to_csv('confiabilidade_airlines.csv', index=False)\n"
   ]
  }
 ],
 "metadata": {
  "application/vnd.databricks.v1+notebook": {
   "dashboards": [],
   "environmentMetadata": null,
   "language": "python",
   "notebookMetadata": {
    "mostRecentlyExecutedCommandWithImplicitDF": {
     "commandId": -1,
     "dataframes": [
      "_sqldf"
     ]
    },
    "pythonIndentUnit": 2
   },
   "notebookName": "Julius tentando ajudar com Power Bi kk",
   "widgets": {}
  }
 },
 "nbformat": 4,
 "nbformat_minor": 0
}
